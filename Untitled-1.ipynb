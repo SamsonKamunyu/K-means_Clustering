{
 "cells": [
  {
   "cell_type": "code",
   "execution_count": 5,
   "metadata": {},
   "outputs": [],
   "source": [
    "import numpy as np\n",
    "\n",
    "class KMeans:\n",
    "    def __init__(self, n_clusters, max_iters = 1000, tol = 1e-5):\n",
    "        self.n_clusters = n_clusters\n",
    "        self.max_iters = max_iters\n",
    "        self.tol = tol\n",
    "        self.centroids = None\n",
    "        self.labels = None\n",
    "\n",
    "    def fit(self, X):\n",
    "        n_samples, n_features = X.shape\n",
    "\n",
    "        #initialize centroids randomly\n",
    "        idx = np.random.choice(n_samples, self.n_clusters, replace = False)\n",
    "        self.centroids = X[idx]\n",
    "\n",
    "        for i in range(self.max_iters):\n",
    "            #Assign each data point to the nearest centroid\n",
    "            distances = self._calc_distances(X)\n",
    "            self.labels = np.argmin(distances, axis = 1)\n",
    "\n",
    "            #Update centroids\n",
    "            new_centroids = np.zeros((self.n_clusters, n_features))\n",
    "            for j in range(self.n_clusters):\n",
    "                new_centroids[j] = np.mean(X[self.labels == j], axis = 0)\n",
    "\n",
    "            #Check for convergence\n",
    "            if np.sum(np.abs(new_centroids - self.centroids)) < self.tol:\n",
    "                break\n",
    "\n",
    "            self.centroids = new_centroids\n",
    "\n",
    "    def predict(self, X):\n",
    "        distances = self._calc_distances(X)\n",
    "        return np.argmin(distances, axis = 1)\n",
    "    \n",
    "    def _calc_distances(self, X):\n",
    "        distances = np.zeros((X.shape[0], self.n_clusters))\n",
    "        for i, centroid in enumerate(self.centroids):\n",
    "            distances[:, i] = np.linalg.norm(X - centroid, axis = 1)\n",
    "        return distances"
   ]
  },
  {
   "attachments": {},
   "cell_type": "markdown",
   "metadata": {},
   "source": [
    "### Creating Data to test the Implementation"
   ]
  },
  {
   "cell_type": "code",
   "execution_count": null,
   "metadata": {},
   "outputs": [],
   "source": []
  }
 ],
 "metadata": {
  "kernelspec": {
   "display_name": "mlenv",
   "language": "python",
   "name": "python3"
  },
  "language_info": {
   "codemirror_mode": {
    "name": "ipython",
    "version": 3
   },
   "file_extension": ".py",
   "mimetype": "text/x-python",
   "name": "python",
   "nbconvert_exporter": "python",
   "pygments_lexer": "ipython3",
   "version": "3.10.9"
  },
  "orig_nbformat": 4
 },
 "nbformat": 4,
 "nbformat_minor": 2
}
